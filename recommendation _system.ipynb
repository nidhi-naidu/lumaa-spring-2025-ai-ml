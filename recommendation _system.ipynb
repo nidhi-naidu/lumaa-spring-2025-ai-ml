{
 "cells": [
  {
   "cell_type": "code",
   "execution_count": 1,
   "metadata": {},
   "outputs": [],
   "source": [
    "import pandas as pd\n",
    "from sklearn.feature_extraction.text import TfidfVectorizer\n",
    "from sklearn.metrics.pairwise import cosine_similarity\n"
   ]
  },
  {
   "cell_type": "code",
   "execution_count": 10,
   "metadata": {},
   "outputs": [],
   "source": [
    "# Loading the movie dataset\n",
    "movies_df = pd.read_csv('imdb_top_250.csv')\n"
   ]
  },
  {
   "cell_type": "code",
   "execution_count": 11,
   "metadata": {},
   "outputs": [],
   "source": [
    "# Preprocessing and combining features\n",
    "def combine_features(row):\n",
    "    return f\"{row['Plot']} {row['genre']} {row['directors']} {row['cast']}\"\n",
    "\n",
    "movies_df['combined_features'] = movies_df.apply(combine_features, axis=1)\n",
    "movies_df['combined_features'] = movies_df['combined_features'].fillna('')\n"
   ]
  },
  {
   "cell_type": "code",
   "execution_count": 12,
   "metadata": {},
   "outputs": [],
   "source": [
    "# Vectorization using TF-IDF features\n",
    "tfidf = TfidfVectorizer(stop_words='english')\n",
    "tfidf_matrix = tfidf.fit_transform(movies_df['combined_features'])\n"
   ]
  },
  {
   "cell_type": "code",
   "execution_count": 13,
   "metadata": {},
   "outputs": [],
   "source": [
    "# Creating recommender function based on user input\n",
    "def recommend_movies(user_input, top_n=10):\n",
    "    user_vec = tfidf.transform([user_input])\n",
    "    cosine_sim = cosine_similarity(user_vec, tfidf_matrix).flatten()\n",
    "    top_indices = cosine_sim.argsort()[-top_n:][::-1]\n",
    "\n",
    "    recommendations = movies_df.iloc[top_indices][\n",
    "        ['movie_name', 'year_of_release', 'IMDb_score', 'genre', 'Plot']\n",
    "    ]\n",
    "    recommendations['similarity_score'] = cosine_sim[top_indices]\n",
    "\n",
    "    return recommendations.reset_index(drop=True)\n"
   ]
  },
  {
   "cell_type": "code",
   "execution_count": 16,
   "metadata": {},
   "outputs": [],
   "source": [
    "# Example usage\n",
    "user_preferences = input(\"What do you like watching??\")\n",
    "top_n = 5\n",
    "recommendations = recommend_movies(user_preferences, top_n=top_n)\n"
   ]
  },
  {
   "cell_type": "code",
   "execution_count": 15,
   "metadata": {},
   "outputs": [
    {
     "name": "stdout",
     "output_type": "stream",
     "text": [
      "Top 5 movie recommendations based on your preference ('I like action movies set in space'):\n",
      "\n",
      "                                          movie_name  year_of_release  \\\n",
      "0                                       Blade Runner             1982   \n",
      "1                                     The Iron Giant             1999   \n",
      "2                              It's a Wonderful Life             1946   \n",
      "3                                    Bicycle Thieves             1948   \n",
      "4  The Lord of the Rings: The Fellowship of the Ring             2001   \n",
      "\n",
      "   IMDb_score                         genre  \\\n",
      "0         8.1         Action, Drama, Sci-Fi   \n",
      "1         8.1  Animation, Action, Adventure   \n",
      "2         8.6        Drama, Family, Fantasy   \n",
      "3         8.3                         Drama   \n",
      "4         8.9     Adventure, Drama, Fantasy   \n",
      "\n",
      "                                                Plot  similarity_score  \n",
      "0  A blade runner must pursue and terminate four ...          0.155860  \n",
      "1  A young boy befriends a giant robot from outer...          0.154854  \n",
      "2  An angel is sent from Heaven to help a despera...          0.150079  \n",
      "3  In post-war Italy, a working-class man's bicyc...          0.102699  \n",
      "4  A meek Hobbit from the Shire and eight compani...          0.099828  \n"
     ]
    }
   ],
   "source": [
    "# Displaying the top N recommendations\n",
    "print(f\"Top {top_n} movie recommendations based on your preference ('{user_preferences}'):\\n\")\n",
    "print(recommendations)"
   ]
  },
  {
   "cell_type": "code",
   "execution_count": 17,
   "metadata": {},
   "outputs": [
    {
     "name": "stdout",
     "output_type": "stream",
     "text": [
      "Top 5 movie recommendations based on your preference ('I like horror movies with a touch of comedy'):\n",
      "\n",
      "              movie_name  year_of_release  IMDb_score  \\\n",
      "0  It's a Wonderful Life             1946         8.6   \n",
      "1           The Exorcist             1973         8.1   \n",
      "2                  Alien             1979         8.5   \n",
      "3              The Thing             1982         8.2   \n",
      "4                 Psycho             1960         8.5   \n",
      "\n",
      "                       genre  \\\n",
      "0     Drama, Family, Fantasy   \n",
      "1                     Horror   \n",
      "2             Horror, Sci-Fi   \n",
      "3    Horror, Mystery, Sci-Fi   \n",
      "4  Horror, Mystery, Thriller   \n",
      "\n",
      "                                                Plot  similarity_score  \n",
      "0  An angel is sent from Heaven to help a despera...          0.184503  \n",
      "1  When a mysterious entity possesses a young gir...          0.115725  \n",
      "2  After investigating a mysterious transmission ...          0.111787  \n",
      "3  A research team in Antarctica is hunted by a s...          0.109845  \n",
      "4  A secretary on the run for embezzlement takes ...          0.106237  \n"
     ]
    }
   ],
   "source": [
    "print(f\"Top {top_n} movie recommendations based on your preference ('{user_preferences}'):\\n\")\n",
    "print(recommendations)"
   ]
  },
  {
   "cell_type": "code",
   "execution_count": null,
   "metadata": {},
   "outputs": [],
   "source": []
  }
 ],
 "metadata": {
  "kernelspec": {
   "display_name": "venv",
   "language": "python",
   "name": "python3"
  },
  "language_info": {
   "codemirror_mode": {
    "name": "ipython",
    "version": 3
   },
   "file_extension": ".py",
   "mimetype": "text/x-python",
   "name": "python",
   "nbconvert_exporter": "python",
   "pygments_lexer": "ipython3",
   "version": "3.11.1"
  }
 },
 "nbformat": 4,
 "nbformat_minor": 2
}
